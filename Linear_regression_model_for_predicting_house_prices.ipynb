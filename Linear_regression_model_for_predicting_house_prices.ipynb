{
  "nbformat": 4,
  "nbformat_minor": 0,
  "metadata": {
    "colab": {
      "private_outputs": true,
      "provenance": []
    },
    "kernelspec": {
      "name": "python3",
      "display_name": "Python 3"
    },
    "language_info": {
      "name": "python"
    }
  },
  "cells": [
    {
      "cell_type": "code",
      "source": [
        "# Import necessary libraries\n",
        "import numpy as np\n",
        "import matplotlib.pyplot as plt\n",
        "from sklearn.linear_model import LinearRegression\n",
        "from sklearn.metrics import mean_squared_error\n",
        "\n",
        "# Sample data: Area in square feet (X) and corresponding house price in $1000s (y)\n",
        "# For simplicity, let's simulate a linear relationship: price = 50 * area + some noise\n",
        "\n",
        "X = np.array([[650], [800], [950], [1100], [1250], [1400], [1550], [1700], [1850], [2000]])\n",
        "y = np.array([325, 400, 475, 550, 625, 700, 775, 850, 925, 1000])  # Prices in $1000s\n",
        "\n",
        "# Create a linear regression model\n",
        "\n",
        "model = LinearRegression()\n",
        "\n",
        "# Train the model with the data\n",
        "\n",
        "model.fit(X, y)\n",
        "\n",
        "# Make predictions on the same data to visualize the line of best fit\n",
        "\n",
        "y_pred = model.predict(X)\n",
        "\n",
        "# Print model parameters\n",
        "\n",
        "print(\"Model Coefficient (Slope):\", model.coef_[0])\n",
        "print(\"Model Intercept:\", model.intercept_)\n",
        "print(\"Mean Squared Error:\", mean_squared_error(y, y_pred))\n",
        "\n",
        "# Predict price for a new house (e.g., 1600 sq. ft)\n",
        "new_area = [[1600]]\n",
        "predicted_price = model.predict(new_area)[0]\n",
        "print(f\"\\nPredicted price for 1600 sq.ft: ${predicted_price * 1000:.2f}\")\n",
        "\n",
        "# Plotting\n",
        "plt.scatter(X, y, color='blue', label='Actual Data')\n",
        "plt.plot(X, y_pred, color='red', label='Regression Line')\n",
        "plt.scatter(new_area, predicted_price, color='green', label='Prediction (2000 sq.ft)')\n",
        "plt.xlabel(\"Area (sq.ft)\")\n",
        "plt.ylabel(\"Price ($1000s)\")\n",
        "plt.title(\"House Price Prediction using Linear Regression\")\n",
        "plt.legend()\n",
        "plt.grid(True)\n",
        "plt.show()"
      ],
      "metadata": {
        "id": "TPNNJO3_kSYx"
      },
      "execution_count": null,
      "outputs": []
    }
  ]
}